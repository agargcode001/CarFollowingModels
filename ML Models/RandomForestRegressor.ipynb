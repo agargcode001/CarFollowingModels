{
 "cells": [
  {
   "cell_type": "raw",
   "metadata": {},
   "source": [
    "import pandas as pd\n",
    "import numpy as np\n",
    "import seaborn as sns\n",
    "import matplotlib.pyplot as plt"
   ]
  },
  {
   "cell_type": "code",
   "execution_count": 3,
   "metadata": {},
   "outputs": [],
   "source": [
    "# df1 corresponds to the ACC follower to first Human leader\n",
    "# df2 corresponds to the Human follower to the first Human Leader\n",
    "df1 = pd.read_excel('G:\\TUM Project\\Machine Learning models\\Vicolungo\\JRC-VC_260219_part2.xlsx','Data')\n"
   ]
  },
  {
   "cell_type": "code",
   "execution_count": 5,
   "metadata": {},
   "outputs": [],
   "source": [
    "df1 = df1.iloc[:5504,:]"
   ]
  },
  {
   "cell_type": "code",
   "execution_count": 6,
   "metadata": {},
   "outputs": [
    {
     "data": {
      "text/html": [
       "<div>\n",
       "<style scoped>\n",
       "    .dataframe tbody tr th:only-of-type {\n",
       "        vertical-align: middle;\n",
       "    }\n",
       "\n",
       "    .dataframe tbody tr th {\n",
       "        vertical-align: top;\n",
       "    }\n",
       "\n",
       "    .dataframe thead th {\n",
       "        text-align: right;\n",
       "    }\n",
       "</style>\n",
       "<table border=\"1\" class=\"dataframe\">\n",
       "  <thead>\n",
       "    <tr style=\"text-align: right;\">\n",
       "      <th></th>\n",
       "      <th>Time</th>\n",
       "      <th>Speed1</th>\n",
       "      <th>Speed2</th>\n",
       "      <th>Speed3</th>\n",
       "      <th>Speed4</th>\n",
       "      <th>Speed5</th>\n",
       "      <th>IVS1</th>\n",
       "      <th>IVS2</th>\n",
       "      <th>IVS3</th>\n",
       "      <th>IVS4</th>\n",
       "      <th>Driver1</th>\n",
       "      <th>Driver2</th>\n",
       "      <th>Driver3</th>\n",
       "      <th>Driver4</th>\n",
       "      <th>Driver5</th>\n",
       "      <th>TTC2</th>\n",
       "      <th>TTC3</th>\n",
       "      <th>TTC4</th>\n",
       "      <th>TTC5</th>\n",
       "      <th>Sp2</th>\n",
       "    </tr>\n",
       "  </thead>\n",
       "  <tbody>\n",
       "    <tr>\n",
       "      <th>0</th>\n",
       "      <td>208402.4</td>\n",
       "      <td>25.647703</td>\n",
       "      <td>25.723234</td>\n",
       "      <td>23.913324</td>\n",
       "      <td>26.150822</td>\n",
       "      <td>25.289044</td>\n",
       "      <td>36.943386</td>\n",
       "      <td>40.588752</td>\n",
       "      <td>30.021271</td>\n",
       "      <td>86.605350</td>\n",
       "      <td>Human</td>\n",
       "      <td>ACC</td>\n",
       "      <td>ACC</td>\n",
       "      <td>ACC</td>\n",
       "      <td>ACC</td>\n",
       "      <td>425.618</td>\n",
       "      <td>No Collision</td>\n",
       "      <td>11.471</td>\n",
       "      <td>No Collision</td>\n",
       "      <td>26.072318</td>\n",
       "    </tr>\n",
       "    <tr>\n",
       "      <th>1</th>\n",
       "      <td>208402.5</td>\n",
       "      <td>25.639506</td>\n",
       "      <td>25.699651</td>\n",
       "      <td>23.910974</td>\n",
       "      <td>26.072318</td>\n",
       "      <td>25.273834</td>\n",
       "      <td>36.950651</td>\n",
       "      <td>40.795443</td>\n",
       "      <td>29.776549</td>\n",
       "      <td>86.734036</td>\n",
       "      <td>Human</td>\n",
       "      <td>ACC</td>\n",
       "      <td>ACC</td>\n",
       "      <td>ACC</td>\n",
       "      <td>ACC</td>\n",
       "      <td>534.617</td>\n",
       "      <td>No Collision</td>\n",
       "      <td>11.7619</td>\n",
       "      <td>No Collision</td>\n",
       "      <td>25.994022</td>\n",
       "    </tr>\n",
       "    <tr>\n",
       "      <th>2</th>\n",
       "      <td>208402.6</td>\n",
       "      <td>25.627285</td>\n",
       "      <td>25.700575</td>\n",
       "      <td>23.910073</td>\n",
       "      <td>25.994022</td>\n",
       "      <td>25.257782</td>\n",
       "      <td>36.956207</td>\n",
       "      <td>41.003177</td>\n",
       "      <td>29.540310</td>\n",
       "      <td>86.857592</td>\n",
       "      <td>Human</td>\n",
       "      <td>ACC</td>\n",
       "      <td>ACC</td>\n",
       "      <td>ACC</td>\n",
       "      <td>ACC</td>\n",
       "      <td>438.812</td>\n",
       "      <td>No Collision</td>\n",
       "      <td>12.0854</td>\n",
       "      <td>No Collision</td>\n",
       "      <td>25.915146</td>\n",
       "    </tr>\n",
       "    <tr>\n",
       "      <th>3</th>\n",
       "      <td>208402.7</td>\n",
       "      <td>25.614090</td>\n",
       "      <td>25.722720</td>\n",
       "      <td>23.912470</td>\n",
       "      <td>25.915146</td>\n",
       "      <td>25.243788</td>\n",
       "      <td>36.960612</td>\n",
       "      <td>41.211235</td>\n",
       "      <td>29.312415</td>\n",
       "      <td>86.980770</td>\n",
       "      <td>Human</td>\n",
       "      <td>ACC</td>\n",
       "      <td>ACC</td>\n",
       "      <td>ACC</td>\n",
       "      <td>ACC</td>\n",
       "      <td>296.095</td>\n",
       "      <td>No Collision</td>\n",
       "      <td>12.462</td>\n",
       "      <td>No Collision</td>\n",
       "      <td>25.834913</td>\n",
       "    </tr>\n",
       "    <tr>\n",
       "      <th>4</th>\n",
       "      <td>208402.8</td>\n",
       "      <td>25.602938</td>\n",
       "      <td>25.751501</td>\n",
       "      <td>23.920022</td>\n",
       "      <td>25.834913</td>\n",
       "      <td>25.233966</td>\n",
       "      <td>36.965151</td>\n",
       "      <td>41.418154</td>\n",
       "      <td>29.092730</td>\n",
       "      <td>87.100273</td>\n",
       "      <td>Human</td>\n",
       "      <td>ACC</td>\n",
       "      <td>ACC</td>\n",
       "      <td>ACC</td>\n",
       "      <td>ACC</td>\n",
       "      <td>216.536</td>\n",
       "      <td>No Collision</td>\n",
       "      <td>12.9186</td>\n",
       "      <td>No Collision</td>\n",
       "      <td>25.753189</td>\n",
       "    </tr>\n",
       "    <tr>\n",
       "      <th>...</th>\n",
       "      <td>...</td>\n",
       "      <td>...</td>\n",
       "      <td>...</td>\n",
       "      <td>...</td>\n",
       "      <td>...</td>\n",
       "      <td>...</td>\n",
       "      <td>...</td>\n",
       "      <td>...</td>\n",
       "      <td>...</td>\n",
       "      <td>...</td>\n",
       "      <td>...</td>\n",
       "      <td>...</td>\n",
       "      <td>...</td>\n",
       "      <td>...</td>\n",
       "      <td>...</td>\n",
       "      <td>...</td>\n",
       "      <td>...</td>\n",
       "      <td>...</td>\n",
       "      <td>...</td>\n",
       "      <td>...</td>\n",
       "    </tr>\n",
       "    <tr>\n",
       "      <th>5499</th>\n",
       "      <td>208952.3</td>\n",
       "      <td>27.458206</td>\n",
       "      <td>27.461156</td>\n",
       "      <td>27.896957</td>\n",
       "      <td>25.199472</td>\n",
       "      <td>27.187269</td>\n",
       "      <td>40.261945</td>\n",
       "      <td>47.667703</td>\n",
       "      <td>15.238363</td>\n",
       "      <td>18.437735</td>\n",
       "      <td>Human</td>\n",
       "      <td>ACC</td>\n",
       "      <td>ACC</td>\n",
       "      <td>ACC</td>\n",
       "      <td>ACC</td>\n",
       "      <td>12023.5</td>\n",
       "      <td>100.029</td>\n",
       "      <td>No Collision</td>\n",
       "      <td>6.93367</td>\n",
       "      <td>25.277033</td>\n",
       "    </tr>\n",
       "    <tr>\n",
       "      <th>5500</th>\n",
       "      <td>208952.4</td>\n",
       "      <td>27.417319</td>\n",
       "      <td>27.461300</td>\n",
       "      <td>28.079143</td>\n",
       "      <td>25.277033</td>\n",
       "      <td>27.155370</td>\n",
       "      <td>40.258187</td>\n",
       "      <td>47.341600</td>\n",
       "      <td>15.601434</td>\n",
       "      <td>18.479673</td>\n",
       "      <td>Human</td>\n",
       "      <td>ACC</td>\n",
       "      <td>ACC</td>\n",
       "      <td>ACC</td>\n",
       "      <td>ACC</td>\n",
       "      <td>806.31</td>\n",
       "      <td>70.0285</td>\n",
       "      <td>No Collision</td>\n",
       "      <td>7.36006</td>\n",
       "      <td>25.377946</td>\n",
       "    </tr>\n",
       "    <tr>\n",
       "      <th>5501</th>\n",
       "      <td>208952.5</td>\n",
       "      <td>27.384274</td>\n",
       "      <td>27.461388</td>\n",
       "      <td>28.239661</td>\n",
       "      <td>25.377946</td>\n",
       "      <td>27.137622</td>\n",
       "      <td>40.252940</td>\n",
       "      <td>47.069755</td>\n",
       "      <td>15.759921</td>\n",
       "      <td>18.670339</td>\n",
       "      <td>Human</td>\n",
       "      <td>ACC</td>\n",
       "      <td>ACC</td>\n",
       "      <td>ACC</td>\n",
       "      <td>ACC</td>\n",
       "      <td>459.803</td>\n",
       "      <td>55.2438</td>\n",
       "      <td>No Collision</td>\n",
       "      <td>7.96473</td>\n",
       "      <td>25.455743</td>\n",
       "    </tr>\n",
       "    <tr>\n",
       "      <th>5502</th>\n",
       "      <td>208952.6</td>\n",
       "      <td>27.349911</td>\n",
       "      <td>27.461387</td>\n",
       "      <td>28.380379</td>\n",
       "      <td>25.455743</td>\n",
       "      <td>27.121915</td>\n",
       "      <td>40.244075</td>\n",
       "      <td>46.848474</td>\n",
       "      <td>15.945226</td>\n",
       "      <td>18.768339</td>\n",
       "      <td>Human</td>\n",
       "      <td>ACC</td>\n",
       "      <td>ACC</td>\n",
       "      <td>ACC</td>\n",
       "      <td>ACC</td>\n",
       "      <td>317.988</td>\n",
       "      <td>46.5439</td>\n",
       "      <td>No Collision</td>\n",
       "      <td>8.47052</td>\n",
       "      <td>25.476598</td>\n",
       "    </tr>\n",
       "    <tr>\n",
       "      <th>5503</th>\n",
       "      <td>208952.7</td>\n",
       "      <td>27.306985</td>\n",
       "      <td>27.461343</td>\n",
       "      <td>28.502910</td>\n",
       "      <td>25.476598</td>\n",
       "      <td>27.094876</td>\n",
       "      <td>40.231087</td>\n",
       "      <td>46.673921</td>\n",
       "      <td>16.330534</td>\n",
       "      <td>18.602583</td>\n",
       "      <td>Human</td>\n",
       "      <td>ACC</td>\n",
       "      <td>ACC</td>\n",
       "      <td>ACC</td>\n",
       "      <td>ACC</td>\n",
       "      <td>229.565</td>\n",
       "      <td>40.8989</td>\n",
       "      <td>No Collision</td>\n",
       "      <td>8.61878</td>\n",
       "      <td>25.457194</td>\n",
       "    </tr>\n",
       "  </tbody>\n",
       "</table>\n",
       "<p>5504 rows × 20 columns</p>\n",
       "</div>"
      ],
      "text/plain": [
       "          Time     Speed1     Speed2     Speed3     Speed4     Speed5  \\\n",
       "0     208402.4  25.647703  25.723234  23.913324  26.150822  25.289044   \n",
       "1     208402.5  25.639506  25.699651  23.910974  26.072318  25.273834   \n",
       "2     208402.6  25.627285  25.700575  23.910073  25.994022  25.257782   \n",
       "3     208402.7  25.614090  25.722720  23.912470  25.915146  25.243788   \n",
       "4     208402.8  25.602938  25.751501  23.920022  25.834913  25.233966   \n",
       "...        ...        ...        ...        ...        ...        ...   \n",
       "5499  208952.3  27.458206  27.461156  27.896957  25.199472  27.187269   \n",
       "5500  208952.4  27.417319  27.461300  28.079143  25.277033  27.155370   \n",
       "5501  208952.5  27.384274  27.461388  28.239661  25.377946  27.137622   \n",
       "5502  208952.6  27.349911  27.461387  28.380379  25.455743  27.121915   \n",
       "5503  208952.7  27.306985  27.461343  28.502910  25.476598  27.094876   \n",
       "\n",
       "           IVS1       IVS2       IVS3       IVS4 Driver1 Driver2 Driver3  \\\n",
       "0     36.943386  40.588752  30.021271  86.605350   Human     ACC     ACC   \n",
       "1     36.950651  40.795443  29.776549  86.734036   Human     ACC     ACC   \n",
       "2     36.956207  41.003177  29.540310  86.857592   Human     ACC     ACC   \n",
       "3     36.960612  41.211235  29.312415  86.980770   Human     ACC     ACC   \n",
       "4     36.965151  41.418154  29.092730  87.100273   Human     ACC     ACC   \n",
       "...         ...        ...        ...        ...     ...     ...     ...   \n",
       "5499  40.261945  47.667703  15.238363  18.437735   Human     ACC     ACC   \n",
       "5500  40.258187  47.341600  15.601434  18.479673   Human     ACC     ACC   \n",
       "5501  40.252940  47.069755  15.759921  18.670339   Human     ACC     ACC   \n",
       "5502  40.244075  46.848474  15.945226  18.768339   Human     ACC     ACC   \n",
       "5503  40.231087  46.673921  16.330534  18.602583   Human     ACC     ACC   \n",
       "\n",
       "     Driver4 Driver5     TTC2          TTC3          TTC4          TTC5  \\\n",
       "0        ACC     ACC  425.618  No Collision        11.471  No Collision   \n",
       "1        ACC     ACC  534.617  No Collision       11.7619  No Collision   \n",
       "2        ACC     ACC  438.812  No Collision       12.0854  No Collision   \n",
       "3        ACC     ACC  296.095  No Collision        12.462  No Collision   \n",
       "4        ACC     ACC  216.536  No Collision       12.9186  No Collision   \n",
       "...      ...     ...      ...           ...           ...           ...   \n",
       "5499     ACC     ACC  12023.5       100.029  No Collision       6.93367   \n",
       "5500     ACC     ACC   806.31       70.0285  No Collision       7.36006   \n",
       "5501     ACC     ACC  459.803       55.2438  No Collision       7.96473   \n",
       "5502     ACC     ACC  317.988       46.5439  No Collision       8.47052   \n",
       "5503     ACC     ACC  229.565       40.8989  No Collision       8.61878   \n",
       "\n",
       "            Sp2  \n",
       "0     26.072318  \n",
       "1     25.994022  \n",
       "2     25.915146  \n",
       "3     25.834913  \n",
       "4     25.753189  \n",
       "...         ...  \n",
       "5499  25.277033  \n",
       "5500  25.377946  \n",
       "5501  25.455743  \n",
       "5502  25.476598  \n",
       "5503  25.457194  \n",
       "\n",
       "[5504 rows x 20 columns]"
      ]
     },
     "execution_count": 6,
     "metadata": {},
     "output_type": "execute_result"
    }
   ],
   "source": [
    "df1"
   ]
  },
  {
   "cell_type": "code",
   "execution_count": 18,
   "metadata": {},
   "outputs": [],
   "source": [
    "X = df1.iloc[:,1:3]"
   ]
  },
  {
   "cell_type": "code",
   "execution_count": 20,
   "metadata": {},
   "outputs": [],
   "source": [
    "X = pd.concat([X,df1['IVS1']], axis=1)"
   ]
  },
  {
   "cell_type": "code",
   "execution_count": 22,
   "metadata": {},
   "outputs": [],
   "source": [
    "Y = df1.iloc[:,19:20]"
   ]
  },
  {
   "cell_type": "code",
   "execution_count": 25,
   "metadata": {},
   "outputs": [],
   "source": [
    "from sklearn.model_selection import train_test_split\n",
    "X_train, X_test, y_train, y_test = train_test_split(X,Y,test_size=0.3,random_state=40)"
   ]
  },
  {
   "cell_type": "code",
   "execution_count": 26,
   "metadata": {},
   "outputs": [],
   "source": [
    "# MinMax Scaling\n",
    "from sklearn.preprocessing import MinMaxScaler\n",
    "scaler = MinMaxScaler(feature_range=(0,1))\n",
    "x_train_scaled = scaler.fit_transform(X_train)\n",
    "X_train = pd.DataFrame(x_train_scaled)\n",
    "\n",
    "x_test_scaled = scaler.fit_transform(X_test)\n",
    "X_test = pd.DataFrame(x_test_scaled)\n"
   ]
  },
  {
   "cell_type": "code",
   "execution_count": 31,
   "metadata": {},
   "outputs": [],
   "source": [
    "from sklearn.ensemble import RandomForestRegressor\n",
    "from sklearn.metrics import mean_squared_error \n",
    "from math import sqrt\n",
    "import matplotlib.pyplot as plt\n",
    "%matplotlib inline"
   ]
  },
  {
   "cell_type": "code",
   "execution_count": 43,
   "metadata": {},
   "outputs": [
    {
     "name": "stderr",
     "output_type": "stream",
     "text": [
      "<ipython-input-43-2ef4543eb160>:6: DataConversionWarning: A column-vector y was passed when a 1d array was expected. Please change the shape of y to (n_samples,), for example using ravel().\n",
      "  model.fit(X_train, y_train)  #fit the model\n"
     ]
    },
    {
     "name": "stdout",
     "output_type": "stream",
     "text": [
      "RMSE value for k=  101 is: 0.41956782945874155\n"
     ]
    },
    {
     "name": "stderr",
     "output_type": "stream",
     "text": [
      "<ipython-input-43-2ef4543eb160>:6: DataConversionWarning: A column-vector y was passed when a 1d array was expected. Please change the shape of y to (n_samples,), for example using ravel().\n",
      "  model.fit(X_train, y_train)  #fit the model\n"
     ]
    },
    {
     "name": "stdout",
     "output_type": "stream",
     "text": [
      "RMSE value for k=  102 is: 0.4003789827486205\n"
     ]
    },
    {
     "name": "stderr",
     "output_type": "stream",
     "text": [
      "<ipython-input-43-2ef4543eb160>:6: DataConversionWarning: A column-vector y was passed when a 1d array was expected. Please change the shape of y to (n_samples,), for example using ravel().\n",
      "  model.fit(X_train, y_train)  #fit the model\n"
     ]
    },
    {
     "name": "stdout",
     "output_type": "stream",
     "text": [
      "RMSE value for k=  103 is: 0.45474999488548995\n"
     ]
    },
    {
     "name": "stderr",
     "output_type": "stream",
     "text": [
      "<ipython-input-43-2ef4543eb160>:6: DataConversionWarning: A column-vector y was passed when a 1d array was expected. Please change the shape of y to (n_samples,), for example using ravel().\n",
      "  model.fit(X_train, y_train)  #fit the model\n"
     ]
    },
    {
     "name": "stdout",
     "output_type": "stream",
     "text": [
      "RMSE value for k=  104 is: 0.43503692579470554\n"
     ]
    },
    {
     "name": "stderr",
     "output_type": "stream",
     "text": [
      "<ipython-input-43-2ef4543eb160>:6: DataConversionWarning: A column-vector y was passed when a 1d array was expected. Please change the shape of y to (n_samples,), for example using ravel().\n",
      "  model.fit(X_train, y_train)  #fit the model\n"
     ]
    },
    {
     "name": "stdout",
     "output_type": "stream",
     "text": [
      "RMSE value for k=  105 is: 0.4096102571317242\n"
     ]
    },
    {
     "name": "stderr",
     "output_type": "stream",
     "text": [
      "<ipython-input-43-2ef4543eb160>:6: DataConversionWarning: A column-vector y was passed when a 1d array was expected. Please change the shape of y to (n_samples,), for example using ravel().\n",
      "  model.fit(X_train, y_train)  #fit the model\n"
     ]
    },
    {
     "name": "stdout",
     "output_type": "stream",
     "text": [
      "RMSE value for k=  106 is: 0.4428892253982957\n"
     ]
    },
    {
     "name": "stderr",
     "output_type": "stream",
     "text": [
      "<ipython-input-43-2ef4543eb160>:6: DataConversionWarning: A column-vector y was passed when a 1d array was expected. Please change the shape of y to (n_samples,), for example using ravel().\n",
      "  model.fit(X_train, y_train)  #fit the model\n"
     ]
    },
    {
     "name": "stdout",
     "output_type": "stream",
     "text": [
      "RMSE value for k=  107 is: 0.44499338540347705\n"
     ]
    },
    {
     "name": "stderr",
     "output_type": "stream",
     "text": [
      "<ipython-input-43-2ef4543eb160>:6: DataConversionWarning: A column-vector y was passed when a 1d array was expected. Please change the shape of y to (n_samples,), for example using ravel().\n",
      "  model.fit(X_train, y_train)  #fit the model\n"
     ]
    },
    {
     "name": "stdout",
     "output_type": "stream",
     "text": [
      "RMSE value for k=  108 is: 0.43521026525202094\n"
     ]
    },
    {
     "name": "stderr",
     "output_type": "stream",
     "text": [
      "<ipython-input-43-2ef4543eb160>:6: DataConversionWarning: A column-vector y was passed when a 1d array was expected. Please change the shape of y to (n_samples,), for example using ravel().\n",
      "  model.fit(X_train, y_train)  #fit the model\n"
     ]
    },
    {
     "name": "stdout",
     "output_type": "stream",
     "text": [
      "RMSE value for k=  109 is: 0.44054023424606015\n"
     ]
    },
    {
     "name": "stderr",
     "output_type": "stream",
     "text": [
      "<ipython-input-43-2ef4543eb160>:6: DataConversionWarning: A column-vector y was passed when a 1d array was expected. Please change the shape of y to (n_samples,), for example using ravel().\n",
      "  model.fit(X_train, y_train)  #fit the model\n"
     ]
    },
    {
     "name": "stdout",
     "output_type": "stream",
     "text": [
      "RMSE value for k=  110 is: 0.43742004304779175\n"
     ]
    },
    {
     "name": "stderr",
     "output_type": "stream",
     "text": [
      "<ipython-input-43-2ef4543eb160>:6: DataConversionWarning: A column-vector y was passed when a 1d array was expected. Please change the shape of y to (n_samples,), for example using ravel().\n",
      "  model.fit(X_train, y_train)  #fit the model\n"
     ]
    },
    {
     "name": "stdout",
     "output_type": "stream",
     "text": [
      "RMSE value for k=  111 is: 0.45021919539051014\n"
     ]
    },
    {
     "name": "stderr",
     "output_type": "stream",
     "text": [
      "<ipython-input-43-2ef4543eb160>:6: DataConversionWarning: A column-vector y was passed when a 1d array was expected. Please change the shape of y to (n_samples,), for example using ravel().\n",
      "  model.fit(X_train, y_train)  #fit the model\n"
     ]
    },
    {
     "name": "stdout",
     "output_type": "stream",
     "text": [
      "RMSE value for k=  112 is: 0.4389240712214653\n"
     ]
    },
    {
     "name": "stderr",
     "output_type": "stream",
     "text": [
      "<ipython-input-43-2ef4543eb160>:6: DataConversionWarning: A column-vector y was passed when a 1d array was expected. Please change the shape of y to (n_samples,), for example using ravel().\n",
      "  model.fit(X_train, y_train)  #fit the model\n"
     ]
    },
    {
     "name": "stdout",
     "output_type": "stream",
     "text": [
      "RMSE value for k=  113 is: 0.4472398960050429\n"
     ]
    },
    {
     "name": "stderr",
     "output_type": "stream",
     "text": [
      "<ipython-input-43-2ef4543eb160>:6: DataConversionWarning: A column-vector y was passed when a 1d array was expected. Please change the shape of y to (n_samples,), for example using ravel().\n",
      "  model.fit(X_train, y_train)  #fit the model\n"
     ]
    },
    {
     "name": "stdout",
     "output_type": "stream",
     "text": [
      "RMSE value for k=  114 is: 0.4412105983636824\n"
     ]
    },
    {
     "name": "stderr",
     "output_type": "stream",
     "text": [
      "<ipython-input-43-2ef4543eb160>:6: DataConversionWarning: A column-vector y was passed when a 1d array was expected. Please change the shape of y to (n_samples,), for example using ravel().\n",
      "  model.fit(X_train, y_train)  #fit the model\n"
     ]
    },
    {
     "name": "stdout",
     "output_type": "stream",
     "text": [
      "RMSE value for k=  115 is: 0.4512302431088453\n"
     ]
    },
    {
     "name": "stderr",
     "output_type": "stream",
     "text": [
      "<ipython-input-43-2ef4543eb160>:6: DataConversionWarning: A column-vector y was passed when a 1d array was expected. Please change the shape of y to (n_samples,), for example using ravel().\n",
      "  model.fit(X_train, y_train)  #fit the model\n"
     ]
    },
    {
     "name": "stdout",
     "output_type": "stream",
     "text": [
      "RMSE value for k=  116 is: 0.4232221524474269\n"
     ]
    },
    {
     "name": "stderr",
     "output_type": "stream",
     "text": [
      "<ipython-input-43-2ef4543eb160>:6: DataConversionWarning: A column-vector y was passed when a 1d array was expected. Please change the shape of y to (n_samples,), for example using ravel().\n",
      "  model.fit(X_train, y_train)  #fit the model\n"
     ]
    },
    {
     "name": "stdout",
     "output_type": "stream",
     "text": [
      "RMSE value for k=  117 is: 0.4351535793979653\n"
     ]
    },
    {
     "name": "stderr",
     "output_type": "stream",
     "text": [
      "<ipython-input-43-2ef4543eb160>:6: DataConversionWarning: A column-vector y was passed when a 1d array was expected. Please change the shape of y to (n_samples,), for example using ravel().\n",
      "  model.fit(X_train, y_train)  #fit the model\n"
     ]
    },
    {
     "name": "stdout",
     "output_type": "stream",
     "text": [
      "RMSE value for k=  118 is: 0.44245724566665834\n"
     ]
    },
    {
     "name": "stderr",
     "output_type": "stream",
     "text": [
      "<ipython-input-43-2ef4543eb160>:6: DataConversionWarning: A column-vector y was passed when a 1d array was expected. Please change the shape of y to (n_samples,), for example using ravel().\n",
      "  model.fit(X_train, y_train)  #fit the model\n"
     ]
    },
    {
     "name": "stdout",
     "output_type": "stream",
     "text": [
      "RMSE value for k=  119 is: 0.4334627699039001\n"
     ]
    },
    {
     "name": "stderr",
     "output_type": "stream",
     "text": [
      "<ipython-input-43-2ef4543eb160>:6: DataConversionWarning: A column-vector y was passed when a 1d array was expected. Please change the shape of y to (n_samples,), for example using ravel().\n",
      "  model.fit(X_train, y_train)  #fit the model\n"
     ]
    },
    {
     "name": "stdout",
     "output_type": "stream",
     "text": [
      "RMSE value for k=  120 is: 0.42881433401396396\n"
     ]
    },
    {
     "name": "stderr",
     "output_type": "stream",
     "text": [
      "<ipython-input-43-2ef4543eb160>:6: DataConversionWarning: A column-vector y was passed when a 1d array was expected. Please change the shape of y to (n_samples,), for example using ravel().\n",
      "  model.fit(X_train, y_train)  #fit the model\n"
     ]
    },
    {
     "name": "stdout",
     "output_type": "stream",
     "text": [
      "RMSE value for k=  121 is: 0.4379753980460214\n"
     ]
    },
    {
     "name": "stderr",
     "output_type": "stream",
     "text": [
      "<ipython-input-43-2ef4543eb160>:6: DataConversionWarning: A column-vector y was passed when a 1d array was expected. Please change the shape of y to (n_samples,), for example using ravel().\n",
      "  model.fit(X_train, y_train)  #fit the model\n"
     ]
    },
    {
     "name": "stdout",
     "output_type": "stream",
     "text": [
      "RMSE value for k=  122 is: 0.44739972619970814\n"
     ]
    },
    {
     "name": "stderr",
     "output_type": "stream",
     "text": [
      "<ipython-input-43-2ef4543eb160>:6: DataConversionWarning: A column-vector y was passed when a 1d array was expected. Please change the shape of y to (n_samples,), for example using ravel().\n",
      "  model.fit(X_train, y_train)  #fit the model\n"
     ]
    },
    {
     "name": "stdout",
     "output_type": "stream",
     "text": [
      "RMSE value for k=  123 is: 0.4368834540460261\n"
     ]
    },
    {
     "name": "stderr",
     "output_type": "stream",
     "text": [
      "<ipython-input-43-2ef4543eb160>:6: DataConversionWarning: A column-vector y was passed when a 1d array was expected. Please change the shape of y to (n_samples,), for example using ravel().\n",
      "  model.fit(X_train, y_train)  #fit the model\n"
     ]
    },
    {
     "name": "stdout",
     "output_type": "stream",
     "text": [
      "RMSE value for k=  124 is: 0.4167610012878945\n"
     ]
    },
    {
     "name": "stderr",
     "output_type": "stream",
     "text": [
      "<ipython-input-43-2ef4543eb160>:6: DataConversionWarning: A column-vector y was passed when a 1d array was expected. Please change the shape of y to (n_samples,), for example using ravel().\n",
      "  model.fit(X_train, y_train)  #fit the model\n"
     ]
    },
    {
     "name": "stdout",
     "output_type": "stream",
     "text": [
      "RMSE value for k=  125 is: 0.4514893458300291\n"
     ]
    },
    {
     "name": "stderr",
     "output_type": "stream",
     "text": [
      "<ipython-input-43-2ef4543eb160>:6: DataConversionWarning: A column-vector y was passed when a 1d array was expected. Please change the shape of y to (n_samples,), for example using ravel().\n",
      "  model.fit(X_train, y_train)  #fit the model\n"
     ]
    },
    {
     "name": "stdout",
     "output_type": "stream",
     "text": [
      "RMSE value for k=  126 is: 0.44237474829653556\n"
     ]
    },
    {
     "name": "stderr",
     "output_type": "stream",
     "text": [
      "<ipython-input-43-2ef4543eb160>:6: DataConversionWarning: A column-vector y was passed when a 1d array was expected. Please change the shape of y to (n_samples,), for example using ravel().\n",
      "  model.fit(X_train, y_train)  #fit the model\n"
     ]
    },
    {
     "name": "stdout",
     "output_type": "stream",
     "text": [
      "RMSE value for k=  127 is: 0.4265075665254121\n"
     ]
    },
    {
     "name": "stderr",
     "output_type": "stream",
     "text": [
      "<ipython-input-43-2ef4543eb160>:6: DataConversionWarning: A column-vector y was passed when a 1d array was expected. Please change the shape of y to (n_samples,), for example using ravel().\n",
      "  model.fit(X_train, y_train)  #fit the model\n"
     ]
    },
    {
     "name": "stdout",
     "output_type": "stream",
     "text": [
      "RMSE value for k=  128 is: 0.42539099800397584\n"
     ]
    },
    {
     "name": "stderr",
     "output_type": "stream",
     "text": [
      "<ipython-input-43-2ef4543eb160>:6: DataConversionWarning: A column-vector y was passed when a 1d array was expected. Please change the shape of y to (n_samples,), for example using ravel().\n",
      "  model.fit(X_train, y_train)  #fit the model\n"
     ]
    },
    {
     "name": "stdout",
     "output_type": "stream",
     "text": [
      "RMSE value for k=  129 is: 0.42468077395280157\n"
     ]
    },
    {
     "name": "stderr",
     "output_type": "stream",
     "text": [
      "<ipython-input-43-2ef4543eb160>:6: DataConversionWarning: A column-vector y was passed when a 1d array was expected. Please change the shape of y to (n_samples,), for example using ravel().\n",
      "  model.fit(X_train, y_train)  #fit the model\n"
     ]
    },
    {
     "name": "stdout",
     "output_type": "stream",
     "text": [
      "RMSE value for k=  130 is: 0.4458157732519794\n"
     ]
    }
   ],
   "source": [
    "rmse_val = [] #to store rmse values for different k\n",
    "for K in range(100,130):\n",
    "    K = K+1\n",
    "    model = RandomForestRegressor(n_estimators = K)\n",
    "\n",
    "    model.fit(X_train, y_train)  #fit the model\n",
    "    pred=model.predict(X_test) #make prediction on test set\n",
    "    error = mean_squared_error(y_test,pred) #calculate rmse\n",
    "    rmse_val.append(error) #store rmse values\n",
    "    \n",
    "    print('RMSE value for k= ' , K , 'is:', error)"
   ]
  },
  {
   "cell_type": "code",
   "execution_count": 44,
   "metadata": {},
   "outputs": [
    {
     "name": "stderr",
     "output_type": "stream",
     "text": [
      "<ipython-input-44-89351777f003>:3: DataConversionWarning: A column-vector y was passed when a 1d array was expected. Please change the shape of y to (n_samples,), for example using ravel().\n",
      "  model.fit(X_train, y_train)\n",
      "c:\\users\\techn\\appdata\\local\\programs\\python\\python38-32\\lib\\site-packages\\sklearn\\model_selection\\_validation.py:531: DataConversionWarning: A column-vector y was passed when a 1d array was expected. Please change the shape of y to (n_samples,), for example using ravel().\n",
      "  estimator.fit(X_train, y_train, **fit_params)\n",
      "c:\\users\\techn\\appdata\\local\\programs\\python\\python38-32\\lib\\site-packages\\sklearn\\model_selection\\_validation.py:531: DataConversionWarning: A column-vector y was passed when a 1d array was expected. Please change the shape of y to (n_samples,), for example using ravel().\n",
      "  estimator.fit(X_train, y_train, **fit_params)\n",
      "c:\\users\\techn\\appdata\\local\\programs\\python\\python38-32\\lib\\site-packages\\sklearn\\model_selection\\_validation.py:531: DataConversionWarning: A column-vector y was passed when a 1d array was expected. Please change the shape of y to (n_samples,), for example using ravel().\n",
      "  estimator.fit(X_train, y_train, **fit_params)\n",
      "c:\\users\\techn\\appdata\\local\\programs\\python\\python38-32\\lib\\site-packages\\sklearn\\model_selection\\_validation.py:531: DataConversionWarning: A column-vector y was passed when a 1d array was expected. Please change the shape of y to (n_samples,), for example using ravel().\n",
      "  estimator.fit(X_train, y_train, **fit_params)\n",
      "c:\\users\\techn\\appdata\\local\\programs\\python\\python38-32\\lib\\site-packages\\sklearn\\model_selection\\_validation.py:531: DataConversionWarning: A column-vector y was passed when a 1d array was expected. Please change the shape of y to (n_samples,), for example using ravel().\n",
      "  estimator.fit(X_train, y_train, **fit_params)\n",
      "c:\\users\\techn\\appdata\\local\\programs\\python\\python38-32\\lib\\site-packages\\sklearn\\model_selection\\_validation.py:531: DataConversionWarning: A column-vector y was passed when a 1d array was expected. Please change the shape of y to (n_samples,), for example using ravel().\n",
      "  estimator.fit(X_train, y_train, **fit_params)\n",
      "c:\\users\\techn\\appdata\\local\\programs\\python\\python38-32\\lib\\site-packages\\sklearn\\model_selection\\_validation.py:531: DataConversionWarning: A column-vector y was passed when a 1d array was expected. Please change the shape of y to (n_samples,), for example using ravel().\n",
      "  estimator.fit(X_train, y_train, **fit_params)\n",
      "c:\\users\\techn\\appdata\\local\\programs\\python\\python38-32\\lib\\site-packages\\sklearn\\model_selection\\_validation.py:531: DataConversionWarning: A column-vector y was passed when a 1d array was expected. Please change the shape of y to (n_samples,), for example using ravel().\n",
      "  estimator.fit(X_train, y_train, **fit_params)\n",
      "c:\\users\\techn\\appdata\\local\\programs\\python\\python38-32\\lib\\site-packages\\sklearn\\model_selection\\_validation.py:531: DataConversionWarning: A column-vector y was passed when a 1d array was expected. Please change the shape of y to (n_samples,), for example using ravel().\n",
      "  estimator.fit(X_train, y_train, **fit_params)\n",
      "c:\\users\\techn\\appdata\\local\\programs\\python\\python38-32\\lib\\site-packages\\sklearn\\model_selection\\_validation.py:531: DataConversionWarning: A column-vector y was passed when a 1d array was expected. Please change the shape of y to (n_samples,), for example using ravel().\n",
      "  estimator.fit(X_train, y_train, **fit_params)\n"
     ]
    },
    {
     "name": "stdout",
     "output_type": "stream",
     "text": [
      "Mean_RF_Acc :  -0.22175021927600452\n"
     ]
    }
   ],
   "source": [
    "# Cross Validation for k=102\n",
    "model1 = RandomForestRegressor(n_estimators=102,random_state=1)\n",
    "model.fit(X_train, y_train)\n",
    "\n",
    "from sklearn.model_selection import cross_val_score\n",
    "RF_accuracies = cross_val_score(estimator = model1, X = X_train, y = y_train, cv = 10, scoring='neg_mean_squared_error')\n",
    "print(\"Mean_RF_Acc : \", RF_accuracies.mean())\n"
   ]
  },
  {
   "cell_type": "code",
   "execution_count": 45,
   "metadata": {},
   "outputs": [
    {
     "data": {
      "text/plain": [
       "array([-0.24364272, -0.21397893, -0.27491765, -0.17695297, -0.2022556 ,\n",
       "       -0.23289219, -0.14671221, -0.20321764, -0.23852234, -0.28440996])"
      ]
     },
     "execution_count": 45,
     "metadata": {},
     "output_type": "execute_result"
    }
   ],
   "source": [
    "RF_accuracies"
   ]
  },
  {
   "cell_type": "code",
   "execution_count": 53,
   "metadata": {},
   "outputs": [
    {
     "name": "stdout",
     "output_type": "stream",
     "text": [
      "{'n_estimators': [200, 400, 600, 800, 1000, 1200, 1400, 1600, 1800, 2000], 'max_features': ['auto', 'sqrt'], 'max_depth': [10, 20, 30, 40, 50, 60, 70, 80, 90, 100, 110, None], 'min_samples_split': [2, 5, 10], 'min_samples_leaf': [1, 2, 4], 'bootstrap': [True, False]}\n"
     ]
    }
   ],
   "source": [
    "from sklearn.model_selection import RandomizedSearchCV\n",
    "# Number of trees in random forest\n",
    "n_estimators = [int(x) for x in np.linspace(start = 200, stop = 2000, num = 10)]\n",
    "# Number of features to consider at every split\n",
    "max_features = ['auto', 'sqrt']\n",
    "# Maximum number of levels in tree\n",
    "max_depth = [int(x) for x in np.linspace(10, 110, num = 11)]\n",
    "max_depth.append(None)\n",
    "# Minimum number of samples required to split a node\n",
    "min_samples_split = [2, 5, 10]\n",
    "# Minimum number of samples required at each leaf node\n",
    "min_samples_leaf = [1, 2, 4]\n",
    "# Method of selecting samples for training each tree\n",
    "bootstrap = [True, False]\n",
    "# Create the random grid\n",
    "random_grid = {'n_estimators': n_estimators,\n",
    "               'max_features': max_features,\n",
    "               'max_depth': max_depth,\n",
    "               'min_samples_split': min_samples_split,\n",
    "               'min_samples_leaf': min_samples_leaf,\n",
    "               'bootstrap': bootstrap}\n",
    "print(random_grid)"
   ]
  },
  {
   "cell_type": "code",
   "execution_count": 54,
   "metadata": {},
   "outputs": [
    {
     "name": "stdout",
     "output_type": "stream",
     "text": [
      "Fitting 3 folds for each of 100 candidates, totalling 300 fits\n"
     ]
    },
    {
     "name": "stderr",
     "output_type": "stream",
     "text": [
      "[Parallel(n_jobs=-1)]: Using backend LokyBackend with 8 concurrent workers.\n",
      "[Parallel(n_jobs=-1)]: Done  25 tasks      | elapsed:  1.1min\n",
      "[Parallel(n_jobs=-1)]: Done 146 tasks      | elapsed:  5.6min\n",
      "[Parallel(n_jobs=-1)]: Done 300 out of 300 | elapsed: 10.0min finished\n",
      "c:\\users\\techn\\appdata\\local\\programs\\python\\python38-32\\lib\\site-packages\\sklearn\\model_selection\\_search.py:765: DataConversionWarning: A column-vector y was passed when a 1d array was expected. Please change the shape of y to (n_samples,), for example using ravel().\n",
      "  self.best_estimator_.fit(X, y, **fit_params)\n"
     ]
    },
    {
     "data": {
      "text/plain": [
       "RandomizedSearchCV(cv=3, estimator=RandomForestRegressor(), n_iter=100,\n",
       "                   n_jobs=-1,\n",
       "                   param_distributions={'bootstrap': [True, False],\n",
       "                                        'max_depth': [10, 20, 30, 40, 50, 60,\n",
       "                                                      70, 80, 90, 100, 110,\n",
       "                                                      None],\n",
       "                                        'max_features': ['auto', 'sqrt'],\n",
       "                                        'min_samples_leaf': [1, 2, 4],\n",
       "                                        'min_samples_split': [2, 5, 10],\n",
       "                                        'n_estimators': [200, 400, 600, 800,\n",
       "                                                         1000, 1200, 1400, 1600,\n",
       "                                                         1800, 2000]},\n",
       "                   random_state=42, verbose=2)"
      ]
     },
     "execution_count": 54,
     "metadata": {},
     "output_type": "execute_result"
    }
   ],
   "source": [
    "# Hyperparameter tuning RandomForestRegressor and K-fold cv\n",
    "# Use the random grid to search for best hyperparameters\n",
    "# First create the base model to tune\n",
    "\n",
    "rf = RandomForestRegressor()\n",
    "# Random search of parameters, using 3 fold cross validation, \n",
    "# search across 100 different combinations, and use all available cores\n",
    "rf_random = RandomizedSearchCV(estimator = rf, param_distributions = random_grid, n_iter = 100, cv = 3, verbose=2, random_state=42, n_jobs = -1)\n",
    "# Fit the random search model\n",
    "rf_random.fit(X_train,y_train)"
   ]
  },
  {
   "cell_type": "code",
   "execution_count": 55,
   "metadata": {},
   "outputs": [
    {
     "data": {
      "text/plain": [
       "{'n_estimators': 400,\n",
       " 'min_samples_split': 2,\n",
       " 'min_samples_leaf': 1,\n",
       " 'max_features': 'sqrt',\n",
       " 'max_depth': None,\n",
       " 'bootstrap': False}"
      ]
     },
     "execution_count": 55,
     "metadata": {},
     "output_type": "execute_result"
    }
   ],
   "source": [
    "rf_random.best_params_"
   ]
  },
  {
   "cell_type": "code",
   "execution_count": 62,
   "metadata": {},
   "outputs": [
    {
     "name": "stderr",
     "output_type": "stream",
     "text": [
      "<ipython-input-62-44b7cc2b56b7>:3: DataConversionWarning: A column-vector y was passed when a 1d array was expected. Please change the shape of y to (n_samples,), for example using ravel().\n",
      "  base_model.fit(X_train, y_train)\n"
     ]
    },
    {
     "data": {
      "text/plain": [
       "RandomForestRegressor(n_estimators=10, random_state=42)"
      ]
     },
     "execution_count": 62,
     "metadata": {},
     "output_type": "execute_result"
    }
   ],
   "source": [
    "# base_model before hyperparamter tuning\n",
    "base_model = RandomForestRegressor(n_estimators = 10, random_state = 42)\n",
    "base_model.fit(X_train, y_train)\n"
   ]
  },
  {
   "cell_type": "code",
   "execution_count": 63,
   "metadata": {},
   "outputs": [],
   "source": [
    "# base model error mean squared error\n",
    "base_model_pred = base_model.predict(X_test)\n",
    "base_model_error = mean_squared_error(base_model_pred,y_test)\n",
    "base_model_error"
   ]
  },
  {
   "cell_type": "code",
   "execution_count": 67,
   "metadata": {},
   "outputs": [],
   "source": [
    "# Selecting the model to be comapred with that of the base model\n",
    "best_random = rf_random.best_estimator_"
   ]
  },
  {
   "cell_type": "code",
   "execution_count": 68,
   "metadata": {},
   "outputs": [
    {
     "data": {
      "text/plain": [
       "0.3674197542220423"
      ]
     },
     "execution_count": 68,
     "metadata": {},
     "output_type": "execute_result"
    }
   ],
   "source": [
    "# best_random model mean squared error\n",
    "best_random_pred = best_random.predict(X_test)\n",
    "best_random_error = mean_squared_error(best_random_pred,y_test)\n",
    "best_random_error"
   ]
  },
  {
   "cell_type": "code",
   "execution_count": 69,
   "metadata": {},
   "outputs": [
    {
     "name": "stderr",
     "output_type": "stream",
     "text": [
      "c:\\users\\techn\\appdata\\local\\programs\\python\\python38-32\\lib\\site-packages\\sklearn\\model_selection\\_validation.py:531: DataConversionWarning: A column-vector y was passed when a 1d array was expected. Please change the shape of y to (n_samples,), for example using ravel().\n",
      "  estimator.fit(X_train, y_train, **fit_params)\n",
      "c:\\users\\techn\\appdata\\local\\programs\\python\\python38-32\\lib\\site-packages\\sklearn\\model_selection\\_validation.py:531: DataConversionWarning: A column-vector y was passed when a 1d array was expected. Please change the shape of y to (n_samples,), for example using ravel().\n",
      "  estimator.fit(X_train, y_train, **fit_params)\n",
      "c:\\users\\techn\\appdata\\local\\programs\\python\\python38-32\\lib\\site-packages\\sklearn\\model_selection\\_validation.py:531: DataConversionWarning: A column-vector y was passed when a 1d array was expected. Please change the shape of y to (n_samples,), for example using ravel().\n",
      "  estimator.fit(X_train, y_train, **fit_params)\n",
      "c:\\users\\techn\\appdata\\local\\programs\\python\\python38-32\\lib\\site-packages\\sklearn\\model_selection\\_validation.py:531: DataConversionWarning: A column-vector y was passed when a 1d array was expected. Please change the shape of y to (n_samples,), for example using ravel().\n",
      "  estimator.fit(X_train, y_train, **fit_params)\n",
      "c:\\users\\techn\\appdata\\local\\programs\\python\\python38-32\\lib\\site-packages\\sklearn\\model_selection\\_validation.py:531: DataConversionWarning: A column-vector y was passed when a 1d array was expected. Please change the shape of y to (n_samples,), for example using ravel().\n",
      "  estimator.fit(X_train, y_train, **fit_params)\n"
     ]
    }
   ],
   "source": [
    "# cross-validation\n",
    "from sklearn.model_selection import cross_val_score\n",
    "RF_meansqerror = cross_val_score(estimator = best_random, X = X_train, y = y_train, cv = 5, scoring='neg_mean_squared_error')\n"
   ]
  },
  {
   "cell_type": "code",
   "execution_count": 70,
   "metadata": {},
   "outputs": [
    {
     "data": {
      "text/plain": [
       "array([-0.30656121, -0.20568145, -0.20241745, -0.19849856, -0.35011297])"
      ]
     },
     "execution_count": 70,
     "metadata": {},
     "output_type": "execute_result"
    }
   ],
   "source": [
    "RF_meansqerror"
   ]
  },
  {
   "cell_type": "code",
   "execution_count": 96,
   "metadata": {},
   "outputs": [],
   "source": [
    "# Validating error on other set\n",
    "df2 = pd.read_excel('G:\\TUM Project\\Machine Learning models\\Vicolungo\\JRC-VC_260219_part3.xlsx','Data')"
   ]
  },
  {
   "cell_type": "code",
   "execution_count": 79,
   "metadata": {},
   "outputs": [],
   "source": [
    "df2 = df2.iloc[:1454,:]"
   ]
  },
  {
   "cell_type": "code",
   "execution_count": 80,
   "metadata": {},
   "outputs": [
    {
     "data": {
      "text/html": [
       "<div>\n",
       "<style scoped>\n",
       "    .dataframe tbody tr th:only-of-type {\n",
       "        vertical-align: middle;\n",
       "    }\n",
       "\n",
       "    .dataframe tbody tr th {\n",
       "        vertical-align: top;\n",
       "    }\n",
       "\n",
       "    .dataframe thead th {\n",
       "        text-align: right;\n",
       "    }\n",
       "</style>\n",
       "<table border=\"1\" class=\"dataframe\">\n",
       "  <thead>\n",
       "    <tr style=\"text-align: right;\">\n",
       "      <th></th>\n",
       "      <th>Time</th>\n",
       "      <th>Speed1</th>\n",
       "      <th>Speed2</th>\n",
       "      <th>Speed3</th>\n",
       "      <th>Speed4</th>\n",
       "      <th>Speed5</th>\n",
       "      <th>IVS1</th>\n",
       "      <th>IVS2</th>\n",
       "      <th>IVS3</th>\n",
       "      <th>IVS4</th>\n",
       "      <th>Driver1</th>\n",
       "      <th>Driver2</th>\n",
       "      <th>Driver3</th>\n",
       "      <th>Driver4</th>\n",
       "      <th>Driver5</th>\n",
       "      <th>TTC2</th>\n",
       "      <th>TTC3</th>\n",
       "      <th>TTC4</th>\n",
       "      <th>TTC5</th>\n",
       "      <th>Sp2</th>\n",
       "    </tr>\n",
       "  </thead>\n",
       "  <tbody>\n",
       "    <tr>\n",
       "      <th>0</th>\n",
       "      <td>208970.3</td>\n",
       "      <td>32.256800</td>\n",
       "      <td>32.070061</td>\n",
       "      <td>32.335588</td>\n",
       "      <td>33.609139</td>\n",
       "      <td>24.688684</td>\n",
       "      <td>43.783003</td>\n",
       "      <td>45.564954</td>\n",
       "      <td>63.045949</td>\n",
       "      <td>115.663938</td>\n",
       "      <td>Human</td>\n",
       "      <td>ACC</td>\n",
       "      <td>ACC</td>\n",
       "      <td>ACC</td>\n",
       "      <td>ACC</td>\n",
       "      <td>No Collision</td>\n",
       "      <td>156.255</td>\n",
       "      <td>46.0845</td>\n",
       "      <td>No Collision</td>\n",
       "      <td>32.079778</td>\n",
       "    </tr>\n",
       "    <tr>\n",
       "      <th>1</th>\n",
       "      <td>208970.4</td>\n",
       "      <td>32.275186</td>\n",
       "      <td>32.079778</td>\n",
       "      <td>32.317292</td>\n",
       "      <td>33.658369</td>\n",
       "      <td>24.849994</td>\n",
       "      <td>43.810448</td>\n",
       "      <td>45.571340</td>\n",
       "      <td>62.906110</td>\n",
       "      <td>115.500012</td>\n",
       "      <td>Human</td>\n",
       "      <td>ACC</td>\n",
       "      <td>ACC</td>\n",
       "      <td>ACC</td>\n",
       "      <td>ACC</td>\n",
       "      <td>No Collision</td>\n",
       "      <td>174.711</td>\n",
       "      <td>43.6597</td>\n",
       "      <td>No Collision</td>\n",
       "      <td>32.090149</td>\n",
       "    </tr>\n",
       "    <tr>\n",
       "      <th>2</th>\n",
       "      <td>208970.5</td>\n",
       "      <td>32.292301</td>\n",
       "      <td>32.090149</td>\n",
       "      <td>32.300031</td>\n",
       "      <td>33.708594</td>\n",
       "      <td>24.981760</td>\n",
       "      <td>43.849263</td>\n",
       "      <td>45.571734</td>\n",
       "      <td>62.767912</td>\n",
       "      <td>115.520753</td>\n",
       "      <td>Human</td>\n",
       "      <td>ACC</td>\n",
       "      <td>ACC</td>\n",
       "      <td>ACC</td>\n",
       "      <td>ACC</td>\n",
       "      <td>No Collision</td>\n",
       "      <td>197.715</td>\n",
       "      <td>41.4699</td>\n",
       "      <td>No Collision</td>\n",
       "      <td>32.107249</td>\n",
       "    </tr>\n",
       "    <tr>\n",
       "      <th>3</th>\n",
       "      <td>208970.6</td>\n",
       "      <td>32.307022</td>\n",
       "      <td>32.107249</td>\n",
       "      <td>32.286665</td>\n",
       "      <td>33.755854</td>\n",
       "      <td>25.091811</td>\n",
       "      <td>43.893707</td>\n",
       "      <td>45.566751</td>\n",
       "      <td>62.628838</td>\n",
       "      <td>115.668867</td>\n",
       "      <td>Human</td>\n",
       "      <td>ACC</td>\n",
       "      <td>ACC</td>\n",
       "      <td>ACC</td>\n",
       "      <td>ACC</td>\n",
       "      <td>No Collision</td>\n",
       "      <td>231.26</td>\n",
       "      <td>39.6639</td>\n",
       "      <td>No Collision</td>\n",
       "      <td>32.132443</td>\n",
       "    </tr>\n",
       "    <tr>\n",
       "      <th>4</th>\n",
       "      <td>208970.7</td>\n",
       "      <td>32.318222</td>\n",
       "      <td>32.132443</td>\n",
       "      <td>32.280048</td>\n",
       "      <td>33.796172</td>\n",
       "      <td>25.194828</td>\n",
       "      <td>43.937237</td>\n",
       "      <td>45.557679</td>\n",
       "      <td>62.486370</td>\n",
       "      <td>115.840224</td>\n",
       "      <td>Human</td>\n",
       "      <td>ACC</td>\n",
       "      <td>ACC</td>\n",
       "      <td>ACC</td>\n",
       "      <td>ACC</td>\n",
       "      <td>No Collision</td>\n",
       "      <td>281.04</td>\n",
       "      <td>38.3421</td>\n",
       "      <td>No Collision</td>\n",
       "      <td>32.151199</td>\n",
       "    </tr>\n",
       "    <tr>\n",
       "      <th>...</th>\n",
       "      <td>...</td>\n",
       "      <td>...</td>\n",
       "      <td>...</td>\n",
       "      <td>...</td>\n",
       "      <td>...</td>\n",
       "      <td>...</td>\n",
       "      <td>...</td>\n",
       "      <td>...</td>\n",
       "      <td>...</td>\n",
       "      <td>...</td>\n",
       "      <td>...</td>\n",
       "      <td>...</td>\n",
       "      <td>...</td>\n",
       "      <td>...</td>\n",
       "      <td>...</td>\n",
       "      <td>...</td>\n",
       "      <td>...</td>\n",
       "      <td>...</td>\n",
       "      <td>...</td>\n",
       "      <td>...</td>\n",
       "    </tr>\n",
       "    <tr>\n",
       "      <th>1449</th>\n",
       "      <td>209115.2</td>\n",
       "      <td>21.398358</td>\n",
       "      <td>15.603235</td>\n",
       "      <td>21.548866</td>\n",
       "      <td>21.382104</td>\n",
       "      <td>23.157431</td>\n",
       "      <td>49.526051</td>\n",
       "      <td>26.449714</td>\n",
       "      <td>27.075816</td>\n",
       "      <td>45.825615</td>\n",
       "      <td>Human</td>\n",
       "      <td>ACC</td>\n",
       "      <td>ACC</td>\n",
       "      <td>ACC</td>\n",
       "      <td>ACC</td>\n",
       "      <td>No Collision</td>\n",
       "      <td>3.76322</td>\n",
       "      <td>No Collision</td>\n",
       "      <td>23.1904</td>\n",
       "      <td>15.603235</td>\n",
       "    </tr>\n",
       "    <tr>\n",
       "      <th>1450</th>\n",
       "      <td>209115.3</td>\n",
       "      <td>21.408839</td>\n",
       "      <td>15.603235</td>\n",
       "      <td>21.630385</td>\n",
       "      <td>21.363488</td>\n",
       "      <td>23.155896</td>\n",
       "      <td>50.117840</td>\n",
       "      <td>25.904054</td>\n",
       "      <td>27.133883</td>\n",
       "      <td>45.609202</td>\n",
       "      <td>Human</td>\n",
       "      <td>ACC</td>\n",
       "      <td>ACC</td>\n",
       "      <td>ACC</td>\n",
       "      <td>ACC</td>\n",
       "      <td>No Collision</td>\n",
       "      <td>3.62179</td>\n",
       "      <td>No Collision</td>\n",
       "      <td>22.8487</td>\n",
       "      <td>15.603235</td>\n",
       "    </tr>\n",
       "    <tr>\n",
       "      <th>1451</th>\n",
       "      <td>209115.4</td>\n",
       "      <td>21.413901</td>\n",
       "      <td>15.603235</td>\n",
       "      <td>21.721853</td>\n",
       "      <td>21.347386</td>\n",
       "      <td>23.131903</td>\n",
       "      <td>50.719519</td>\n",
       "      <td>25.348894</td>\n",
       "      <td>27.195080</td>\n",
       "      <td>45.394553</td>\n",
       "      <td>Human</td>\n",
       "      <td>ACC</td>\n",
       "      <td>ACC</td>\n",
       "      <td>ACC</td>\n",
       "      <td>ACC</td>\n",
       "      <td>No Collision</td>\n",
       "      <td>3.47691</td>\n",
       "      <td>No Collision</td>\n",
       "      <td>22.8295</td>\n",
       "      <td>15.603235</td>\n",
       "    </tr>\n",
       "    <tr>\n",
       "      <th>1452</th>\n",
       "      <td>209115.5</td>\n",
       "      <td>21.406694</td>\n",
       "      <td>15.603235</td>\n",
       "      <td>21.831246</td>\n",
       "      <td>21.334360</td>\n",
       "      <td>23.104482</td>\n",
       "      <td>51.315035</td>\n",
       "      <td>24.791170</td>\n",
       "      <td>27.261537</td>\n",
       "      <td>45.181562</td>\n",
       "      <td>Human</td>\n",
       "      <td>ACC</td>\n",
       "      <td>ACC</td>\n",
       "      <td>ACC</td>\n",
       "      <td>ACC</td>\n",
       "      <td>No Collision</td>\n",
       "      <td>3.32629</td>\n",
       "      <td>No Collision</td>\n",
       "      <td>22.8948</td>\n",
       "      <td>15.603235</td>\n",
       "    </tr>\n",
       "    <tr>\n",
       "      <th>1453</th>\n",
       "      <td>209115.6</td>\n",
       "      <td>21.411321</td>\n",
       "      <td>15.603235</td>\n",
       "      <td>21.931777</td>\n",
       "      <td>21.323801</td>\n",
       "      <td>23.099306</td>\n",
       "      <td>51.918610</td>\n",
       "      <td>24.227671</td>\n",
       "      <td>27.333083</td>\n",
       "      <td>44.963435</td>\n",
       "      <td>Human</td>\n",
       "      <td>ACC</td>\n",
       "      <td>ACC</td>\n",
       "      <td>ACC</td>\n",
       "      <td>ACC</td>\n",
       "      <td>No Collision</td>\n",
       "      <td>3.18441</td>\n",
       "      <td>No Collision</td>\n",
       "      <td>22.7025</td>\n",
       "      <td>15.603235</td>\n",
       "    </tr>\n",
       "  </tbody>\n",
       "</table>\n",
       "<p>1454 rows × 20 columns</p>\n",
       "</div>"
      ],
      "text/plain": [
       "          Time     Speed1     Speed2     Speed3     Speed4     Speed5  \\\n",
       "0     208970.3  32.256800  32.070061  32.335588  33.609139  24.688684   \n",
       "1     208970.4  32.275186  32.079778  32.317292  33.658369  24.849994   \n",
       "2     208970.5  32.292301  32.090149  32.300031  33.708594  24.981760   \n",
       "3     208970.6  32.307022  32.107249  32.286665  33.755854  25.091811   \n",
       "4     208970.7  32.318222  32.132443  32.280048  33.796172  25.194828   \n",
       "...        ...        ...        ...        ...        ...        ...   \n",
       "1449  209115.2  21.398358  15.603235  21.548866  21.382104  23.157431   \n",
       "1450  209115.3  21.408839  15.603235  21.630385  21.363488  23.155896   \n",
       "1451  209115.4  21.413901  15.603235  21.721853  21.347386  23.131903   \n",
       "1452  209115.5  21.406694  15.603235  21.831246  21.334360  23.104482   \n",
       "1453  209115.6  21.411321  15.603235  21.931777  21.323801  23.099306   \n",
       "\n",
       "           IVS1       IVS2       IVS3        IVS4 Driver1 Driver2 Driver3  \\\n",
       "0     43.783003  45.564954  63.045949  115.663938   Human     ACC     ACC   \n",
       "1     43.810448  45.571340  62.906110  115.500012   Human     ACC     ACC   \n",
       "2     43.849263  45.571734  62.767912  115.520753   Human     ACC     ACC   \n",
       "3     43.893707  45.566751  62.628838  115.668867   Human     ACC     ACC   \n",
       "4     43.937237  45.557679  62.486370  115.840224   Human     ACC     ACC   \n",
       "...         ...        ...        ...         ...     ...     ...     ...   \n",
       "1449  49.526051  26.449714  27.075816   45.825615   Human     ACC     ACC   \n",
       "1450  50.117840  25.904054  27.133883   45.609202   Human     ACC     ACC   \n",
       "1451  50.719519  25.348894  27.195080   45.394553   Human     ACC     ACC   \n",
       "1452  51.315035  24.791170  27.261537   45.181562   Human     ACC     ACC   \n",
       "1453  51.918610  24.227671  27.333083   44.963435   Human     ACC     ACC   \n",
       "\n",
       "     Driver4 Driver5          TTC2     TTC3          TTC4          TTC5  \\\n",
       "0        ACC     ACC  No Collision  156.255       46.0845  No Collision   \n",
       "1        ACC     ACC  No Collision  174.711       43.6597  No Collision   \n",
       "2        ACC     ACC  No Collision  197.715       41.4699  No Collision   \n",
       "3        ACC     ACC  No Collision   231.26       39.6639  No Collision   \n",
       "4        ACC     ACC  No Collision   281.04       38.3421  No Collision   \n",
       "...      ...     ...           ...      ...           ...           ...   \n",
       "1449     ACC     ACC  No Collision  3.76322  No Collision       23.1904   \n",
       "1450     ACC     ACC  No Collision  3.62179  No Collision       22.8487   \n",
       "1451     ACC     ACC  No Collision  3.47691  No Collision       22.8295   \n",
       "1452     ACC     ACC  No Collision  3.32629  No Collision       22.8948   \n",
       "1453     ACC     ACC  No Collision  3.18441  No Collision       22.7025   \n",
       "\n",
       "            Sp2  \n",
       "0     32.079778  \n",
       "1     32.090149  \n",
       "2     32.107249  \n",
       "3     32.132443  \n",
       "4     32.151199  \n",
       "...         ...  \n",
       "1449  15.603235  \n",
       "1450  15.603235  \n",
       "1451  15.603235  \n",
       "1452  15.603235  \n",
       "1453  15.603235  \n",
       "\n",
       "[1454 rows x 20 columns]"
      ]
     },
     "execution_count": 80,
     "metadata": {},
     "output_type": "execute_result"
    }
   ],
   "source": [
    "df2"
   ]
  },
  {
   "cell_type": "code",
   "execution_count": 81,
   "metadata": {},
   "outputs": [],
   "source": [
    "X_val = df2.iloc[:,1:3]\n",
    "X_val = pd.concat([X_val,df2['IVS1']],axis=1)"
   ]
  },
  {
   "cell_type": "code",
   "execution_count": 82,
   "metadata": {},
   "outputs": [
    {
     "data": {
      "text/html": [
       "<div>\n",
       "<style scoped>\n",
       "    .dataframe tbody tr th:only-of-type {\n",
       "        vertical-align: middle;\n",
       "    }\n",
       "\n",
       "    .dataframe tbody tr th {\n",
       "        vertical-align: top;\n",
       "    }\n",
       "\n",
       "    .dataframe thead th {\n",
       "        text-align: right;\n",
       "    }\n",
       "</style>\n",
       "<table border=\"1\" class=\"dataframe\">\n",
       "  <thead>\n",
       "    <tr style=\"text-align: right;\">\n",
       "      <th></th>\n",
       "      <th>Speed1</th>\n",
       "      <th>Speed2</th>\n",
       "      <th>IVS1</th>\n",
       "    </tr>\n",
       "  </thead>\n",
       "  <tbody>\n",
       "    <tr>\n",
       "      <th>0</th>\n",
       "      <td>32.256800</td>\n",
       "      <td>32.070061</td>\n",
       "      <td>43.783003</td>\n",
       "    </tr>\n",
       "    <tr>\n",
       "      <th>1</th>\n",
       "      <td>32.275186</td>\n",
       "      <td>32.079778</td>\n",
       "      <td>43.810448</td>\n",
       "    </tr>\n",
       "    <tr>\n",
       "      <th>2</th>\n",
       "      <td>32.292301</td>\n",
       "      <td>32.090149</td>\n",
       "      <td>43.849263</td>\n",
       "    </tr>\n",
       "    <tr>\n",
       "      <th>3</th>\n",
       "      <td>32.307022</td>\n",
       "      <td>32.107249</td>\n",
       "      <td>43.893707</td>\n",
       "    </tr>\n",
       "    <tr>\n",
       "      <th>4</th>\n",
       "      <td>32.318222</td>\n",
       "      <td>32.132443</td>\n",
       "      <td>43.937237</td>\n",
       "    </tr>\n",
       "    <tr>\n",
       "      <th>...</th>\n",
       "      <td>...</td>\n",
       "      <td>...</td>\n",
       "      <td>...</td>\n",
       "    </tr>\n",
       "    <tr>\n",
       "      <th>1449</th>\n",
       "      <td>21.398358</td>\n",
       "      <td>15.603235</td>\n",
       "      <td>49.526051</td>\n",
       "    </tr>\n",
       "    <tr>\n",
       "      <th>1450</th>\n",
       "      <td>21.408839</td>\n",
       "      <td>15.603235</td>\n",
       "      <td>50.117840</td>\n",
       "    </tr>\n",
       "    <tr>\n",
       "      <th>1451</th>\n",
       "      <td>21.413901</td>\n",
       "      <td>15.603235</td>\n",
       "      <td>50.719519</td>\n",
       "    </tr>\n",
       "    <tr>\n",
       "      <th>1452</th>\n",
       "      <td>21.406694</td>\n",
       "      <td>15.603235</td>\n",
       "      <td>51.315035</td>\n",
       "    </tr>\n",
       "    <tr>\n",
       "      <th>1453</th>\n",
       "      <td>21.411321</td>\n",
       "      <td>15.603235</td>\n",
       "      <td>51.918610</td>\n",
       "    </tr>\n",
       "  </tbody>\n",
       "</table>\n",
       "<p>1454 rows × 3 columns</p>\n",
       "</div>"
      ],
      "text/plain": [
       "         Speed1     Speed2       IVS1\n",
       "0     32.256800  32.070061  43.783003\n",
       "1     32.275186  32.079778  43.810448\n",
       "2     32.292301  32.090149  43.849263\n",
       "3     32.307022  32.107249  43.893707\n",
       "4     32.318222  32.132443  43.937237\n",
       "...         ...        ...        ...\n",
       "1449  21.398358  15.603235  49.526051\n",
       "1450  21.408839  15.603235  50.117840\n",
       "1451  21.413901  15.603235  50.719519\n",
       "1452  21.406694  15.603235  51.315035\n",
       "1453  21.411321  15.603235  51.918610\n",
       "\n",
       "[1454 rows x 3 columns]"
      ]
     },
     "execution_count": 82,
     "metadata": {},
     "output_type": "execute_result"
    }
   ],
   "source": [
    "X_val"
   ]
  },
  {
   "cell_type": "code",
   "execution_count": 83,
   "metadata": {},
   "outputs": [],
   "source": [
    "Y_val = df2['Sp2']"
   ]
  },
  {
   "cell_type": "code",
   "execution_count": 84,
   "metadata": {},
   "outputs": [
    {
     "data": {
      "text/plain": [
       "0       32.079778\n",
       "1       32.090149\n",
       "2       32.107249\n",
       "3       32.132443\n",
       "4       32.151199\n",
       "          ...    \n",
       "1449    15.603235\n",
       "1450    15.603235\n",
       "1451    15.603235\n",
       "1452    15.603235\n",
       "1453    15.603235\n",
       "Name: Sp2, Length: 1454, dtype: float64"
      ]
     },
     "execution_count": 84,
     "metadata": {},
     "output_type": "execute_result"
    }
   ],
   "source": [
    "Y_val"
   ]
  },
  {
   "cell_type": "code",
   "execution_count": 90,
   "metadata": {},
   "outputs": [],
   "source": [
    "X_train_val, X_test_val, y_train_val, y_test_val = train_test_split(X_val,Y_val,test_size=0.2)"
   ]
  },
  {
   "cell_type": "code",
   "execution_count": 92,
   "metadata": {},
   "outputs": [],
   "source": [
    "rf_val = RandomForestRegressor(n_estimators=400,min_samples_split=2,min_samples_leaf=1,max_features='sqrt',max_depth=None,bootstrap=False)"
   ]
  },
  {
   "cell_type": "code",
   "execution_count": 93,
   "metadata": {},
   "outputs": [
    {
     "data": {
      "text/plain": [
       "RandomForestRegressor(bootstrap=False, max_features='sqrt', n_estimators=400)"
      ]
     },
     "execution_count": 93,
     "metadata": {},
     "output_type": "execute_result"
    }
   ],
   "source": [
    "rf_val.fit(X_train_val,y_train_val)"
   ]
  },
  {
   "cell_type": "code",
   "execution_count": 95,
   "metadata": {},
   "outputs": [
    {
     "data": {
      "text/plain": [
       "0.01791612850640677"
      ]
     },
     "execution_count": 95,
     "metadata": {},
     "output_type": "execute_result"
    }
   ],
   "source": [
    "rf_val_pred = rf_val.predict(X_test_val)\n",
    "best_params_error = mean_squared_error(rf_val_pred,y_test_val)\n",
    "best_params_error"
   ]
  },
  {
   "cell_type": "code",
   "execution_count": 97,
   "metadata": {},
   "outputs": [
    {
     "data": {
      "text/html": [
       "<div>\n",
       "<style scoped>\n",
       "    .dataframe tbody tr th:only-of-type {\n",
       "        vertical-align: middle;\n",
       "    }\n",
       "\n",
       "    .dataframe tbody tr th {\n",
       "        vertical-align: top;\n",
       "    }\n",
       "\n",
       "    .dataframe thead th {\n",
       "        text-align: right;\n",
       "    }\n",
       "</style>\n",
       "<table border=\"1\" class=\"dataframe\">\n",
       "  <thead>\n",
       "    <tr style=\"text-align: right;\">\n",
       "      <th></th>\n",
       "      <th>Time</th>\n",
       "      <th>Speed1</th>\n",
       "      <th>Speed2</th>\n",
       "      <th>Speed3</th>\n",
       "      <th>Speed4</th>\n",
       "      <th>Speed5</th>\n",
       "      <th>IVS1</th>\n",
       "      <th>IVS2</th>\n",
       "      <th>IVS3</th>\n",
       "      <th>IVS4</th>\n",
       "      <th>...</th>\n",
       "      <th>Driver2</th>\n",
       "      <th>Driver3</th>\n",
       "      <th>Driver4</th>\n",
       "      <th>Driver5</th>\n",
       "      <th>TTC2</th>\n",
       "      <th>TTC3</th>\n",
       "      <th>TTC4</th>\n",
       "      <th>TTC5</th>\n",
       "      <th>Sp2</th>\n",
       "      <th>Sp3</th>\n",
       "    </tr>\n",
       "  </thead>\n",
       "  <tbody>\n",
       "    <tr>\n",
       "      <th>0</th>\n",
       "      <td>208970.3</td>\n",
       "      <td>32.256800</td>\n",
       "      <td>32.070061</td>\n",
       "      <td>32.335588</td>\n",
       "      <td>33.609139</td>\n",
       "      <td>24.688684</td>\n",
       "      <td>43.783003</td>\n",
       "      <td>45.564954</td>\n",
       "      <td>63.045949</td>\n",
       "      <td>115.663938</td>\n",
       "      <td>...</td>\n",
       "      <td>ACC</td>\n",
       "      <td>ACC</td>\n",
       "      <td>ACC</td>\n",
       "      <td>ACC</td>\n",
       "      <td>No Collision</td>\n",
       "      <td>156.255</td>\n",
       "      <td>46.0845</td>\n",
       "      <td>No Collision</td>\n",
       "      <td>32.079778</td>\n",
       "      <td>32.317292</td>\n",
       "    </tr>\n",
       "    <tr>\n",
       "      <th>1</th>\n",
       "      <td>208970.4</td>\n",
       "      <td>32.275186</td>\n",
       "      <td>32.079778</td>\n",
       "      <td>32.317292</td>\n",
       "      <td>33.658369</td>\n",
       "      <td>24.849994</td>\n",
       "      <td>43.810448</td>\n",
       "      <td>45.571340</td>\n",
       "      <td>62.906110</td>\n",
       "      <td>115.500012</td>\n",
       "      <td>...</td>\n",
       "      <td>ACC</td>\n",
       "      <td>ACC</td>\n",
       "      <td>ACC</td>\n",
       "      <td>ACC</td>\n",
       "      <td>No Collision</td>\n",
       "      <td>174.711</td>\n",
       "      <td>43.6597</td>\n",
       "      <td>No Collision</td>\n",
       "      <td>32.090149</td>\n",
       "      <td>32.300031</td>\n",
       "    </tr>\n",
       "    <tr>\n",
       "      <th>2</th>\n",
       "      <td>208970.5</td>\n",
       "      <td>32.292301</td>\n",
       "      <td>32.090149</td>\n",
       "      <td>32.300031</td>\n",
       "      <td>33.708594</td>\n",
       "      <td>24.981760</td>\n",
       "      <td>43.849263</td>\n",
       "      <td>45.571734</td>\n",
       "      <td>62.767912</td>\n",
       "      <td>115.520753</td>\n",
       "      <td>...</td>\n",
       "      <td>ACC</td>\n",
       "      <td>ACC</td>\n",
       "      <td>ACC</td>\n",
       "      <td>ACC</td>\n",
       "      <td>No Collision</td>\n",
       "      <td>197.715</td>\n",
       "      <td>41.4699</td>\n",
       "      <td>No Collision</td>\n",
       "      <td>32.107249</td>\n",
       "      <td>32.286665</td>\n",
       "    </tr>\n",
       "    <tr>\n",
       "      <th>3</th>\n",
       "      <td>208970.6</td>\n",
       "      <td>32.307022</td>\n",
       "      <td>32.107249</td>\n",
       "      <td>32.286665</td>\n",
       "      <td>33.755854</td>\n",
       "      <td>25.091811</td>\n",
       "      <td>43.893707</td>\n",
       "      <td>45.566751</td>\n",
       "      <td>62.628838</td>\n",
       "      <td>115.668867</td>\n",
       "      <td>...</td>\n",
       "      <td>ACC</td>\n",
       "      <td>ACC</td>\n",
       "      <td>ACC</td>\n",
       "      <td>ACC</td>\n",
       "      <td>No Collision</td>\n",
       "      <td>231.26</td>\n",
       "      <td>39.6639</td>\n",
       "      <td>No Collision</td>\n",
       "      <td>32.132443</td>\n",
       "      <td>32.280048</td>\n",
       "    </tr>\n",
       "    <tr>\n",
       "      <th>4</th>\n",
       "      <td>208970.7</td>\n",
       "      <td>32.318222</td>\n",
       "      <td>32.132443</td>\n",
       "      <td>32.280048</td>\n",
       "      <td>33.796172</td>\n",
       "      <td>25.194828</td>\n",
       "      <td>43.937237</td>\n",
       "      <td>45.557679</td>\n",
       "      <td>62.486370</td>\n",
       "      <td>115.840224</td>\n",
       "      <td>...</td>\n",
       "      <td>ACC</td>\n",
       "      <td>ACC</td>\n",
       "      <td>ACC</td>\n",
       "      <td>ACC</td>\n",
       "      <td>No Collision</td>\n",
       "      <td>281.04</td>\n",
       "      <td>38.3421</td>\n",
       "      <td>No Collision</td>\n",
       "      <td>32.151199</td>\n",
       "      <td>32.283051</td>\n",
       "    </tr>\n",
       "    <tr>\n",
       "      <th>...</th>\n",
       "      <td>...</td>\n",
       "      <td>...</td>\n",
       "      <td>...</td>\n",
       "      <td>...</td>\n",
       "      <td>...</td>\n",
       "      <td>...</td>\n",
       "      <td>...</td>\n",
       "      <td>...</td>\n",
       "      <td>...</td>\n",
       "      <td>...</td>\n",
       "      <td>...</td>\n",
       "      <td>...</td>\n",
       "      <td>...</td>\n",
       "      <td>...</td>\n",
       "      <td>...</td>\n",
       "      <td>...</td>\n",
       "      <td>...</td>\n",
       "      <td>...</td>\n",
       "      <td>...</td>\n",
       "      <td>...</td>\n",
       "      <td>...</td>\n",
       "    </tr>\n",
       "    <tr>\n",
       "      <th>1450</th>\n",
       "      <td>209115.3</td>\n",
       "      <td>21.408839</td>\n",
       "      <td>15.603235</td>\n",
       "      <td>21.630385</td>\n",
       "      <td>21.363488</td>\n",
       "      <td>23.155896</td>\n",
       "      <td>50.117840</td>\n",
       "      <td>25.904054</td>\n",
       "      <td>27.133883</td>\n",
       "      <td>45.609202</td>\n",
       "      <td>...</td>\n",
       "      <td>ACC</td>\n",
       "      <td>ACC</td>\n",
       "      <td>ACC</td>\n",
       "      <td>ACC</td>\n",
       "      <td>No Collision</td>\n",
       "      <td>3.62179</td>\n",
       "      <td>No Collision</td>\n",
       "      <td>22.8487</td>\n",
       "      <td>15.603235</td>\n",
       "      <td>21.721853</td>\n",
       "    </tr>\n",
       "    <tr>\n",
       "      <th>1451</th>\n",
       "      <td>209115.4</td>\n",
       "      <td>21.413901</td>\n",
       "      <td>15.603235</td>\n",
       "      <td>21.721853</td>\n",
       "      <td>21.347386</td>\n",
       "      <td>23.131903</td>\n",
       "      <td>50.719519</td>\n",
       "      <td>25.348894</td>\n",
       "      <td>27.195080</td>\n",
       "      <td>45.394553</td>\n",
       "      <td>...</td>\n",
       "      <td>ACC</td>\n",
       "      <td>ACC</td>\n",
       "      <td>ACC</td>\n",
       "      <td>ACC</td>\n",
       "      <td>No Collision</td>\n",
       "      <td>3.47691</td>\n",
       "      <td>No Collision</td>\n",
       "      <td>22.8295</td>\n",
       "      <td>15.603235</td>\n",
       "      <td>21.831246</td>\n",
       "    </tr>\n",
       "    <tr>\n",
       "      <th>1452</th>\n",
       "      <td>209115.5</td>\n",
       "      <td>21.406694</td>\n",
       "      <td>15.603235</td>\n",
       "      <td>21.831246</td>\n",
       "      <td>21.334360</td>\n",
       "      <td>23.104482</td>\n",
       "      <td>51.315035</td>\n",
       "      <td>24.791170</td>\n",
       "      <td>27.261537</td>\n",
       "      <td>45.181562</td>\n",
       "      <td>...</td>\n",
       "      <td>ACC</td>\n",
       "      <td>ACC</td>\n",
       "      <td>ACC</td>\n",
       "      <td>ACC</td>\n",
       "      <td>No Collision</td>\n",
       "      <td>3.32629</td>\n",
       "      <td>No Collision</td>\n",
       "      <td>22.8948</td>\n",
       "      <td>15.603235</td>\n",
       "      <td>21.931777</td>\n",
       "    </tr>\n",
       "    <tr>\n",
       "      <th>1453</th>\n",
       "      <td>209115.6</td>\n",
       "      <td>21.411321</td>\n",
       "      <td>15.603235</td>\n",
       "      <td>21.931777</td>\n",
       "      <td>21.323801</td>\n",
       "      <td>23.099306</td>\n",
       "      <td>51.918610</td>\n",
       "      <td>24.227671</td>\n",
       "      <td>27.333083</td>\n",
       "      <td>44.963435</td>\n",
       "      <td>...</td>\n",
       "      <td>ACC</td>\n",
       "      <td>ACC</td>\n",
       "      <td>ACC</td>\n",
       "      <td>ACC</td>\n",
       "      <td>No Collision</td>\n",
       "      <td>3.18441</td>\n",
       "      <td>No Collision</td>\n",
       "      <td>22.7025</td>\n",
       "      <td>15.603235</td>\n",
       "      <td>22.002019</td>\n",
       "    </tr>\n",
       "    <tr>\n",
       "      <th>1454</th>\n",
       "      <td>209115.7</td>\n",
       "      <td>21.446507</td>\n",
       "      <td>15.603235</td>\n",
       "      <td>22.002019</td>\n",
       "      <td>21.314794</td>\n",
       "      <td>23.131095</td>\n",
       "      <td>52.528484</td>\n",
       "      <td>23.652987</td>\n",
       "      <td>27.410231</td>\n",
       "      <td>44.736095</td>\n",
       "      <td>...</td>\n",
       "      <td>ACC</td>\n",
       "      <td>ACC</td>\n",
       "      <td>ACC</td>\n",
       "      <td>ACC</td>\n",
       "      <td>No Collision</td>\n",
       "      <td>3.05964</td>\n",
       "      <td>No Collision</td>\n",
       "      <td>22.0674</td>\n",
       "      <td>NaN</td>\n",
       "      <td>NaN</td>\n",
       "    </tr>\n",
       "  </tbody>\n",
       "</table>\n",
       "<p>1455 rows × 21 columns</p>\n",
       "</div>"
      ],
      "text/plain": [
       "          Time     Speed1     Speed2     Speed3     Speed4     Speed5  \\\n",
       "0     208970.3  32.256800  32.070061  32.335588  33.609139  24.688684   \n",
       "1     208970.4  32.275186  32.079778  32.317292  33.658369  24.849994   \n",
       "2     208970.5  32.292301  32.090149  32.300031  33.708594  24.981760   \n",
       "3     208970.6  32.307022  32.107249  32.286665  33.755854  25.091811   \n",
       "4     208970.7  32.318222  32.132443  32.280048  33.796172  25.194828   \n",
       "...        ...        ...        ...        ...        ...        ...   \n",
       "1450  209115.3  21.408839  15.603235  21.630385  21.363488  23.155896   \n",
       "1451  209115.4  21.413901  15.603235  21.721853  21.347386  23.131903   \n",
       "1452  209115.5  21.406694  15.603235  21.831246  21.334360  23.104482   \n",
       "1453  209115.6  21.411321  15.603235  21.931777  21.323801  23.099306   \n",
       "1454  209115.7  21.446507  15.603235  22.002019  21.314794  23.131095   \n",
       "\n",
       "           IVS1       IVS2       IVS3        IVS4  ... Driver2 Driver3  \\\n",
       "0     43.783003  45.564954  63.045949  115.663938  ...     ACC     ACC   \n",
       "1     43.810448  45.571340  62.906110  115.500012  ...     ACC     ACC   \n",
       "2     43.849263  45.571734  62.767912  115.520753  ...     ACC     ACC   \n",
       "3     43.893707  45.566751  62.628838  115.668867  ...     ACC     ACC   \n",
       "4     43.937237  45.557679  62.486370  115.840224  ...     ACC     ACC   \n",
       "...         ...        ...        ...         ...  ...     ...     ...   \n",
       "1450  50.117840  25.904054  27.133883   45.609202  ...     ACC     ACC   \n",
       "1451  50.719519  25.348894  27.195080   45.394553  ...     ACC     ACC   \n",
       "1452  51.315035  24.791170  27.261537   45.181562  ...     ACC     ACC   \n",
       "1453  51.918610  24.227671  27.333083   44.963435  ...     ACC     ACC   \n",
       "1454  52.528484  23.652987  27.410231   44.736095  ...     ACC     ACC   \n",
       "\n",
       "     Driver4 Driver5          TTC2     TTC3          TTC4          TTC5  \\\n",
       "0        ACC     ACC  No Collision  156.255       46.0845  No Collision   \n",
       "1        ACC     ACC  No Collision  174.711       43.6597  No Collision   \n",
       "2        ACC     ACC  No Collision  197.715       41.4699  No Collision   \n",
       "3        ACC     ACC  No Collision   231.26       39.6639  No Collision   \n",
       "4        ACC     ACC  No Collision   281.04       38.3421  No Collision   \n",
       "...      ...     ...           ...      ...           ...           ...   \n",
       "1450     ACC     ACC  No Collision  3.62179  No Collision       22.8487   \n",
       "1451     ACC     ACC  No Collision  3.47691  No Collision       22.8295   \n",
       "1452     ACC     ACC  No Collision  3.32629  No Collision       22.8948   \n",
       "1453     ACC     ACC  No Collision  3.18441  No Collision       22.7025   \n",
       "1454     ACC     ACC  No Collision  3.05964  No Collision       22.0674   \n",
       "\n",
       "            Sp2        Sp3  \n",
       "0     32.079778  32.317292  \n",
       "1     32.090149  32.300031  \n",
       "2     32.107249  32.286665  \n",
       "3     32.132443  32.280048  \n",
       "4     32.151199  32.283051  \n",
       "...         ...        ...  \n",
       "1450  15.603235  21.721853  \n",
       "1451  15.603235  21.831246  \n",
       "1452  15.603235  21.931777  \n",
       "1453  15.603235  22.002019  \n",
       "1454        NaN        NaN  \n",
       "\n",
       "[1455 rows x 21 columns]"
      ]
     },
     "execution_count": 97,
     "metadata": {},
     "output_type": "execute_result"
    }
   ],
   "source": [
    "df2"
   ]
  },
  {
   "cell_type": "code",
   "execution_count": 98,
   "metadata": {},
   "outputs": [],
   "source": [
    "df2 = df2.iloc[:1454,:]"
   ]
  },
  {
   "cell_type": "code",
   "execution_count": 100,
   "metadata": {},
   "outputs": [],
   "source": [
    "X_val2 = df2.iloc[:,1:3]\n",
    "X_val2 = pd.concat([X_val2,df2['IVS2']],axis=1)"
   ]
  },
  {
   "cell_type": "code",
   "execution_count": 101,
   "metadata": {},
   "outputs": [],
   "source": [
    "Y_val2 = df2['Sp3']"
   ]
  },
  {
   "cell_type": "code",
   "execution_count": 103,
   "metadata": {},
   "outputs": [
    {
     "data": {
      "text/plain": [
       "48.23409763490477"
      ]
     },
     "execution_count": 103,
     "metadata": {},
     "output_type": "execute_result"
    }
   ],
   "source": [
    "y_pred2 = best_random.predict(X_val2)\n",
    "error2 = mean_squared_error(y_pred2,Y_val2)\n",
    "error2"
   ]
  },
  {
   "cell_type": "code",
   "execution_count": null,
   "metadata": {},
   "outputs": [],
   "source": []
  }
 ],
 "metadata": {
  "kernelspec": {
   "display_name": "Python 3",
   "language": "python",
   "name": "python3"
  },
  "language_info": {
   "codemirror_mode": {
    "name": "ipython",
    "version": 3
   },
   "file_extension": ".py",
   "mimetype": "text/x-python",
   "name": "python",
   "nbconvert_exporter": "python",
   "pygments_lexer": "ipython3",
   "version": "3.8.5"
  }
 },
 "nbformat": 4,
 "nbformat_minor": 4
}
